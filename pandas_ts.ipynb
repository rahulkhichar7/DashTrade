{
 "cells": [
  {
   "cell_type": "code",
   "execution_count": 1,
   "id": "067564dc",
   "metadata": {},
   "outputs": [
    {
     "name": "stdout",
     "output_type": "stream",
     "text": [
      "Project skeleton created under 'Backtester/'\n"
     ]
    }
   ],
   "source": [
    "import os\n",
    "\n",
    "# Root project folder\n",
    "root = \"Backtester\"\n",
    "\n",
    "# Folder and file structure\n",
    "structure = {\n",
    "    \"data\": [\"__init__.py\", \"data_loader.py\", \"data_cleaner.py\"],\n",
    "    \"indicators\": [\n",
    "        \"__init__.py\",\n",
    "        \"moving_averages.py\",\n",
    "        \"momentum.py\",\n",
    "        \"volatility.py\",\n",
    "        \"trend.py\"\n",
    "    ],\n",
    "    \"strategy\": [\n",
    "        \"__init__.py\",\n",
    "        \"base_strategy.py\",\n",
    "        \"sma_crossover.py\",\n",
    "        \"rsi_reversal.py\"\n",
    "    ],\n",
    "    \"portfolio\": [\n",
    "        \"__init__.py\",\n",
    "        \"portfolio.py\",\n",
    "        \"orders.py\",\n",
    "        \"risk_management.py\"\n",
    "    ],\n",
    "    \"metrics\": [\n",
    "        \"__init__.py\",\n",
    "        \"performance.py\",\n",
    "        \"trade_stats.py\"\n",
    "    ],\n",
    "    \"utils\": [\n",
    "        \"__init__.py\",\n",
    "        \"array_ops.py\",\n",
    "        \"plotter.py\",\n",
    "        \"config.py\"\n",
    "    ]\n",
    "}\n",
    "\n",
    "# Create folders and files\n",
    "for folder, files in structure.items():\n",
    "    folder_path = os.path.join(root, folder)\n",
    "    os.makedirs(folder_path, exist_ok=True)\n",
    "    for file in files:\n",
    "        file_path = os.path.join(folder_path, file)\n",
    "        with open(file_path, \"w\") as f:\n",
    "            pass  # create empty file\n",
    "\n",
    "print(f\"Project skeleton created under '{root}/'\")\n"
   ]
  },
  {
   "cell_type": "code",
   "execution_count": null,
   "id": "5ee578af",
   "metadata": {},
   "outputs": [
    {
     "name": "stdout",
     "output_type": "stream",
     "text": [
      "^C\n"
     ]
    },
    {
     "name": "stderr",
     "output_type": "stream",
     "text": [
      "WARNING: Ignoring invalid distribution -lotly (d:\\onedrive - iitgn.ac.in\\desktop\\sem 5\\project cl399\\web\\env\\lib\\site-packages)\n",
      "WARNING: Ignoring invalid distribution -lotly (d:\\onedrive - iitgn.ac.in\\desktop\\sem 5\\project cl399\\web\\env\\lib\\site-packages)\n",
      "WARNING: Ignoring invalid distribution -lotly (d:\\onedrive - iitgn.ac.in\\desktop\\sem 5\\project cl399\\web\\env\\lib\\site-packages)\n",
      "WARNING: Failed to remove contents in a temporary directory 'D:\\OneDrive - iitgn.ac.in\\Desktop\\Sem 5\\Project CL399\\Web\\env\\Lib\\site-packages\\~umpy'.\n",
      "You can safely remove it manually.\n"
     ]
    }
   ],
   "source": [
    "!pip install --upgrade pip -q\n",
    "!pip uninstall pandas-ta -y -q\n",
    "!pip uninstall numpy -y -q\n",
    "!pip install numpy==1.24.4 -q\n",
    "!pip install pandas-ta==0.3.14b0 -q"
   ]
  },
  {
   "cell_type": "code",
   "execution_count": 1,
   "id": "057be540",
   "metadata": {},
   "outputs": [],
   "source": [
    "import pandas_ta as ta"
   ]
  },
  {
   "cell_type": "code",
   "execution_count": 2,
   "id": "7d650886",
   "metadata": {},
   "outputs": [],
   "source": [
    "import pandas as pd\n",
    "import pandas_ta as ta\n",
    "\n",
    "# Create an empty DataFrame to access the \"ta\" extension.\n",
    "df = pd.DataFrame()"
   ]
  },
  {
   "cell_type": "code",
   "execution_count": 3,
   "id": "50797c76",
   "metadata": {},
   "outputs": [
    {
     "name": "stdout",
     "output_type": "stream",
     "text": [
      "Pandas TA - Technical Analysis Indicators - v0.3.14b0\n",
      "Total Indicators & Utilities: 205\n",
      "Abbreviations:\n",
      "    aberration, above, above_value, accbands, ad, adosc, adx, alma, amat, ao, aobv, apo, aroon, atr, bbands, below, below_value, bias, bop, brar, cci, cdl_pattern, cdl_z, cfo, cg, chop, cksp, cmf, cmo, coppock, cross, cross_value, cti, decay, decreasing, dema, dm, donchian, dpo, ebsw, efi, ema, entropy, eom, er, eri, fisher, fwma, ha, hilo, hl2, hlc3, hma, hwc, hwma, ichimoku, increasing, inertia, jma, kama, kc, kdj, kst, kurtosis, kvo, linreg, log_return, long_run, macd, mad, massi, mcgd, median, mfi, midpoint, midprice, mom, natr, nvi, obv, ohlc4, pdist, percent_return, pgo, ppo, psar, psl, pvi, pvo, pvol, pvr, pvt, pwma, qqe, qstick, quantile, rma, roc, rsi, rsx, rvgi, rvi, short_run, sinwma, skew, slope, sma, smi, squeeze, squeeze_pro, ssf, stc, stdev, stoch, stochrsi, supertrend, swma, t3, td_seq, tema, thermo, tos_stdevall, trima, trix, true_range, tsi, tsignals, ttm_trend, ui, uo, variance, vhf, vidya, vortex, vp, vwap, vwma, wcp, willr, wma, xsignals, zlma, zscore\n",
      "\n",
      "Candle Patterns:\n",
      "    2crows, 3blackcrows, 3inside, 3linestrike, 3outside, 3starsinsouth, 3whitesoldiers, abandonedbaby, advanceblock, belthold, breakaway, closingmarubozu, concealbabyswall, counterattack, darkcloudcover, doji, dojistar, dragonflydoji, engulfing, eveningdojistar, eveningstar, gapsidesidewhite, gravestonedoji, hammer, hangingman, harami, haramicross, highwave, hikkake, hikkakemod, homingpigeon, identical3crows, inneck, inside, invertedhammer, kicking, kickingbylength, ladderbottom, longleggeddoji, longline, marubozu, matchinglow, mathold, morningdojistar, morningstar, onneck, piercing, rickshawman, risefall3methods, separatinglines, shootingstar, shortline, spinningtop, stalledpattern, sticksandwich, takuri, tasukigap, thrusting, tristar, unique3river, upsidegap2crows, xsidegap3methods\n"
     ]
    }
   ],
   "source": [
    "df.ta.indicators()"
   ]
  },
  {
   "cell_type": "code",
   "execution_count": 20,
   "id": "37b3968b",
   "metadata": {},
   "outputs": [
    {
     "name": "stdout",
     "output_type": "stream",
     "text": [
      "Pandas TA - Technical Analysis Indicators - v0.3.14b0\n",
      "Total Indicators & Utilities: 205\n",
      "Abbreviations:\n",
      "    aberration, above, above_value, accbands, ad, adosc, adx, alma, amat, ao, aobv, apo, aroon, atr, bbands, below, below_value, bias, bop, brar, cci, cdl_pattern, cdl_z, cfo, cg, chop, cksp, cmf, cmo, coppock, cross, cross_value, cti, decay, decreasing, dema, dm, donchian, dpo, ebsw, efi, ema, entropy, eom, er, eri, fisher, fwma, ha, hilo, hl2, hlc3, hma, hwc, hwma, ichimoku, increasing, inertia, jma, kama, kc, kdj, kst, kurtosis, kvo, linreg, log_return, long_run, macd, mad, massi, mcgd, median, mfi, midpoint, midprice, mom, natr, nvi, obv, ohlc4, pdist, percent_return, pgo, ppo, psar, psl, pvi, pvo, pvol, pvr, pvt, pwma, qqe, qstick, quantile, rma, roc, rsi, rsx, rvgi, rvi, short_run, sinwma, skew, slope, sma, smi, squeeze, squeeze_pro, ssf, stc, stdev, stoch, stochrsi, supertrend, swma, t3, td_seq, tema, thermo, tos_stdevall, trima, trix, true_range, tsi, tsignals, ttm_trend, ui, uo, variance, vhf, vidya, vortex, vp, vwap, vwma, wcp, willr, wma, xsignals, zlma, zscore\n",
      "\n",
      "Candle Patterns:\n",
      "    2crows, 3blackcrows, 3inside, 3linestrike, 3outside, 3starsinsouth, 3whitesoldiers, abandonedbaby, advanceblock, belthold, breakaway, closingmarubozu, concealbabyswall, counterattack, darkcloudcover, doji, dojistar, dragonflydoji, engulfing, eveningdojistar, eveningstar, gapsidesidewhite, gravestonedoji, hammer, hangingman, harami, haramicross, highwave, hikkake, hikkakemod, homingpigeon, identical3crows, inneck, inside, invertedhammer, kicking, kickingbylength, ladderbottom, longleggeddoji, longline, marubozu, matchinglow, mathold, morningdojistar, morningstar, onneck, piercing, rickshawman, risefall3methods, separatinglines, shootingstar, shortline, spinningtop, stalledpattern, sticksandwich, takuri, tasukigap, thrusting, tristar, unique3river, upsidegap2crows, xsidegap3methods\n"
     ]
    }
   ],
   "source": [
    "df.ta.indicators()"
   ]
  },
  {
   "cell_type": "code",
   "execution_count": 1,
   "id": "bb034fd8",
   "metadata": {},
   "outputs": [
    {
     "name": "stdout",
     "output_type": "stream",
     "text": [
      "https://api-t1.fyers.in/api/v3/generate-authcode?client_id=CV26HLO9JI-100&redirect_uri=https%3A%2F%2F127.0.0.1%2F&response_type=code&state=sample\n"
     ]
    },
    {
     "data": {
      "text/plain": [
       "True"
      ]
     },
     "execution_count": 1,
     "metadata": {},
     "output_type": "execute_result"
    }
   ],
   "source": [
    "from fyers_apiv3 import fyersModel\n",
    "import webbrowser\n",
    "\n",
    "redirect_uri= \"https://127.0.0.1/\"  \n",
    "client_id = \"CV26HLO9JI-100\"                      \n",
    "secret_key = \"DST9UGHTX7\"                           \n",
    "grant_type = \"authorization_code\"                  \n",
    "response_type = \"code\"                            \n",
    "state = \"sample\"                              \n",
    "\n",
    "\n",
    "appSession = fyersModel.SessionModel(client_id = client_id, redirect_uri = redirect_uri,response_type=response_type,state=state,secret_key=secret_key,grant_type=grant_type)\n",
    "\n",
    "generateTokenUrl = appSession.generate_authcode()\n",
    "print((generateTokenUrl))  \n",
    "webbrowser.open(generateTokenUrl,new=1)\n"
   ]
  },
  {
   "cell_type": "code",
   "execution_count": 2,
   "id": "325dbd20",
   "metadata": {},
   "outputs": [
    {
     "name": "stdout",
     "output_type": "stream",
     "text": [
      "{'s': 'ok', 'code': 200, 'message': '', 'data': {'fy_id': 'FAC62344', 'name': 'RAHUL KHICHAR', 'image': None, 'display_name': None, 'pin_change_date': '09-08-2025 22:11:34', 'email_id': 'rxxxxxxxxxxxxx1@gmail.com', 'pwd_change_date': None, 'PAN': 'NOxxxxxx7J', 'mobile_number': '92xxxxxx67', 'totp': False, 'pwd_to_expire': 90, 'ddpi_enabled': False, 'mtf_enabled': False}}\n",
      "{'code': 200, 'message': '', 's': 'ok', 'fund_limit': [{'id': 1, 'title': 'Total Balance', 'equityAmount': 0, 'commodityAmount': 0}, {'id': 2, 'title': 'Utilized Amount', 'equityAmount': 0, 'commodityAmount': 0}, {'id': 3, 'title': 'Clear Balance', 'equityAmount': 0, 'commodityAmount': 0}, {'id': 4, 'title': 'Realized Profit and Loss', 'equityAmount': 0, 'commodityAmount': 0}, {'id': 5, 'title': 'Collaterals', 'equityAmount': 0, 'commodityAmount': 0}, {'id': 6, 'title': 'Fund Transfer', 'equityAmount': 0, 'commodityAmount': 0}, {'id': 7, 'title': 'Receivables', 'equityAmount': 0, 'commodityAmount': 0}, {'id': 8, 'title': 'Adhoc Limit', 'equityAmount': 0, 'commodityAmount': 0}, {'id': 9, 'title': 'Limit at start of the day', 'equityAmount': 0, 'commodityAmount': 0}, {'id': 10, 'title': 'Available Balance', 'equityAmount': 0, 'commodityAmount': 0}]}\n",
      "{'code': 200, 'message': '', 's': 'ok', 'overall': {'count_total': 0, 'pnl_perc': 0, 'total_current_value': 0, 'total_investment': 0, 'total_pl': 0}, 'holdings': []}\n"
     ]
    }
   ],
   "source": [
    "auth_code = \"eyJhbGciOiJIUzI1NiIsInR5cCI6IkpXVCJ9.eyJhcHBfaWQiOiJDVjI2SExPOUpJIiwidXVpZCI6ImNmOGZmYjk1MGM2NDRjZGU4M2Q0MDBkNTUyYzM0NTU4IiwiaXBBZGRyIjoiIiwibm9uY2UiOiIiLCJzY29wZSI6IiIsImRpc3BsYXlfbmFtZSI6IkZBQzYyMzQ0Iiwib21zIjoiSzEiLCJoc21fa2V5IjoiMGEwZjM4NTM0MDdjNTZjMGI3NTg1NTY2M2ZhNzNjODc0ZWNiMmE0YzI1NmRkOTM5NGFlY2RkMDUiLCJpc0RkcGlFbmFibGVkIjoiTiIsImlzTXRmRW5hYmxlZCI6Ik4iLCJhdWQiOiJbXCJkOjFcIixcImQ6MlwiLFwieDowXCIsXCJ4OjFcIixcIng6MlwiXSIsImV4cCI6MTc1ODg5MzU0MiwiaWF0IjoxNzU4ODYzNTQyLCJpc3MiOiJhcGkubG9naW4uZnllcnMuaW4iLCJuYmYiOjE3NTg4NjM1NDIsInN1YiI6ImF1dGhfY29kZSJ9.4gR6MxC9Q_49NvQccbQhOKpO5GRw0NAGEd-dpohaSyI\"\n",
    "\n",
    "appSession.set_token(auth_code)\n",
    "response = appSession.generate_token()\n",
    "\n",
    "## There can be two cases over here you can successfully get the acccessToken over the request or you might get some error over here. so to avoid that have this in try except block\n",
    "try: \n",
    "    access_token = response[\"access_token\"]\n",
    "except Exception as e:\n",
    "    print(e,response)  ## This will help you in debugging then and there itself like what was the error and also you would be able to see the value you got in response variable. instead of getting key_error for unsuccessfull response.\n",
    "\n",
    "fyers = fyersModel.FyersModel(token=access_token,is_async=False,client_id=client_id,log_path=\"\")\n",
    "\n",
    "print(fyers.get_profile())  ## This will provide us with the user related data \n",
    "print(fyers.funds())        ## This will provide us with the funds the user has \n",
    "print(fyers.holdings())"
   ]
  },
  {
   "cell_type": "code",
   "execution_count": 3,
   "id": "21e8d6eb",
   "metadata": {},
   "outputs": [
    {
     "data": {
      "text/plain": [
       "'eyJhbGciOiJIUzI1NiIsInR5cCI6IkpXVCJ9.eyJhdWQiOlsiZDoxIiwiZDoyIiwieDowIiwieDoxIiwieDoyIl0sImF0X2hhc2giOiJnQUFBQUFCb3lVZ0RsRHhlOHZ6cFA5QlRNc3pnUWZKTmJrZWtaVFBuOHo3SWFOZzFPSTJBQVJlM1M5dHBlWlJNb1NPRGQ5Z0VvQnNMN04yTVdwaUlsT2MwNmNYc0N5Z2xvS1lHZ2lwRXhic3dmRm9OWjRXNlZaYz0iLCJkaXNwbGF5X25hbWUiOiIiLCJvbXMiOiJLMSIsImhzbV9rZXkiOiIyMmE1NzFkM2Y3Njg4NGY4YjcyNjBjMDZkYjdjMzAyZTc5YzYyMDM3MjljOTA3Y2Y4N2RhZDM3YyIsImlzRGRwaUVuYWJsZWQiOiJOIiwiaXNNdGZFbmFibGVkIjoiTiIsImZ5X2lkIjoiRkFDNjIzNDQiLCJhcHBUeXBlIjoxMDAsImV4cCI6MTc1ODA2OTAwMCwiaWF0IjoxNzU4MDIxNjM1LCJpc3MiOiJhcGkuZnllcnMuaW4iLCJuYmYiOjE3NTgwMjE2MzUsInN1YiI6ImFjY2Vzc190b2tlbiJ9.Ml0x_YYcvb_-jCTClZ6KIJKFoFiXp13T0-X5P0nESUQ'"
      ]
     },
     "execution_count": 3,
     "metadata": {},
     "output_type": "execute_result"
    }
   ],
   "source": [
    "access_token"
   ]
  },
  {
   "cell_type": "code",
   "execution_count": 3,
   "id": "158f282a",
   "metadata": {},
   "outputs": [
    {
     "name": "stdout",
     "output_type": "stream",
     "text": [
      "Real-Time Quote:\n",
      " {'message': '', 'code': 200, 'd': [{'n': 'NSE:RELIANCE-EQ', 'v': {'ask': 1366.5, 'bid': 0, 'chp': 0.93, 'ch': 12.6, 'description': 'NSE:RELIANCE-EQ', 'exchange': 'NSE', 'fyToken': '10100000002885', 'high_price': 1384.5, 'low_price': 1354.5, 'lp': 1366.5, 'open_price': 1354.8, 'original_name': 'NSE:RELIANCE-EQ', 'prev_close_price': 1353.9, 'short_name': 'RELIANCE-EQ', 'spread': 0, 'symbol': 'NSE:RELIANCE-EQ', 'tt': '1756771200', 'volume': 11517006, 'atp': 1374.28}, 's': 'ok'}], 's': 'ok'}\n",
      "\n",
      "Market Depth:\n",
      " {'message': 'Please provide valid inputs', 'code': -50, 's': 'error'}\n",
      "\n",
      "Historical Data:\n",
      " {'candles': [[1704067200, 1290.28, 1303.43, 1286.58, 1295.13, 4030540], [1704153600, 1292.5, 1307.5, 1286.5, 1305.85, 7448800], [1704240000, 1305, 1317, 1288.6, 1291.65, 9037536], [1704326400, 1294, 1304.93, 1289.55, 1298.33, 9612778], [1704412800, 1301.45, 1309.93, 1299, 1303.85, 8086406], [1704672000, 1305, 1315.98, 1284.47, 1293.68, 7734652], [1704758400, 1300, 1303.4, 1288.6, 1290.25, 5403074], [1704844800, 1288.5, 1329.5, 1287.53, 1325.05, 11102740], [1704931200, 1329.5, 1362.5, 1328.5, 1359.9, 23725852], [1705017600, 1359.9, 1373.33, 1345.75, 1370.73, 15012164], [1705276800, 1375, 1396.45, 1366, 1394.13, 8610594], [1705363200, 1389.98, 1396.3, 1370.5, 1374.63, 9069024], [1705449600, 1359.5, 1386.28, 1355.03, 1361.58, 12197382], [1705536000, 1351.4, 1371, 1351.25, 1367.95, 10279438], [1705622400, 1376, 1376, 1359, 1367.45, 10422704], [1705708800, 1365, 1383.48, 1350, 1356.65, 7283394], [1705968000, 1371.75, 1371.75, 1322.55, 1328.58, 20055420], [1706054400, 1335.23, 1349.5, 1323.93, 1343.88, 21919128], [1706140800, 1342.95, 1364.15, 1335.2, 1353.08, 11808872], [1706486400, 1364.5, 1452.5, 1360.18, 1448.05, 23893438], [1706572800, 1459.95, 1459.98, 1404.43, 1407.63, 14093978], [1706659200, 1404, 1434.25, 1402.5, 1426.63, 15130226], [1706745600, 1435, 1443.35, 1418.05, 1426.65, 13349362], [1706832000, 1433.18, 1474.9, 1433.18, 1457.7, 19652588], [1707091200, 1460.75, 1470.5, 1431.53, 1439.03, 8814432], [1707177600, 1441.85, 1441.85, 1419.83, 1427.8, 9047984], [1707264000, 1435.93, 1449.5, 1429.25, 1442.15, 9296568], [1707350400, 1450, 1459.48, 1427.53, 1450.13, 14694634], [1707436800, 1454, 1471.98, 1450.95, 1460.75, 12556798], [1707696000, 1460.75, 1461, 1442.35, 1452.35, 6674430], [1707782400, 1455.5, 1479, 1454, 1465.1, 7715594], [1707868800, 1457.5, 1483.65, 1457.5, 1481.38, 7117888], [1707955200, 1483.35, 1484.73, 1466.53, 1470.6, 10006782], [1708041600, 1476.48, 1477, 1458.55, 1460.58, 9767498], [1708300800, 1462.05, 1479.5, 1453.53, 1474, 6729828], [1708387200, 1475.03, 1475.5, 1461.8, 1471.03, 7117496], [1708473600, 1474, 1488.53, 1457.55, 1467.7, 12720292], [1708560000, 1468.15, 1484.95, 1458, 1481.75, 18493728], [1708646400, 1489.5, 1497.55, 1483.35, 1493.63, 14438584], [1708905600, 1493.55, 1494.53, 1482.5, 1487.33, 7513106], [1708992000, 1483.03, 1499.95, 1478.05, 1485.65, 10826044], [1709078400, 1483, 1491.28, 1450.18, 1455.63, 8647950], [1709164800, 1465, 1478.98, 1454.53, 1460.8, 23628976], [1709251200, 1463.5, 1500, 1462.5, 1492.13, 12132926], [1709337600, 1492, 1500.45, 1488, 1491.08, 716300], [1709510400, 1490.48, 1512.45, 1487.23, 1507.4, 10024420], [1709596800, 1505.78, 1507.4, 1486.05, 1500.2, 7107668], [1709683200, 1493.45, 1509, 1478.5, 1503, 7805676], [1709769600, 1502.98, 1503.1, 1475.55, 1478.93, 8315726], [1710115200, 1489, 1489, 1463.5, 1466.6, 11277130], [1710201600, 1466.6, 1488, 1465.03, 1475.43, 9432678], [1710288000, 1479.78, 1483.1, 1427.78, 1432.18, 13522134], [1710374400, 1439.7, 1448.53, 1425.5, 1431.48, 18571102], [1710460800, 1425.95, 1433.23, 1412.9, 1418.23, 19223818], [1710720000, 1420, 1441.73, 1416.53, 1439.48, 9169392], [1710806400, 1428.75, 1437.6, 1417.25, 1425.25, 8275764], [1710892800, 1427.95, 1445, 1424.03, 1443.75, 8488806], [1710979200, 1452.53, 1457.9, 1444.68, 1450.98, 13006936], [1711065600, 1449.98, 1460, 1447.35, 1455.03, 19527608], [1711411200, 1445, 1452.4, 1439, 1441.58, 11415906], [1711497600, 1448, 1500, 1447, 1492.85, 16326644], [1711584000, 1492.88, 1505.95, 1478.65, 1485.85, 21854364], [1711929600, 1492.48, 1493.98, 1482.5, 1484.78, 5013880], [1712016000, 1484, 1494, 1475, 1486.95, 8910166], [1712102400, 1482.08, 1484.45, 1468.9, 1471.6, 7008292], [1712188800, 1479.75, 1479.75, 1450, 1462.93, 14490272], [1712275200, 1460.88, 1470.8, 1456, 1460.1, 7442298], [1712534400, 1462.98, 1490.98, 1461, 1485.98, 8357118], [1712620800, 1489, 1489.8, 1462.5, 1463.65, 7071414], [1712707200, 1466.35, 1487, 1466.35, 1479.58, 9138330], [1712880000, 1475.88, 1486.48, 1463.08, 1467.15, 15551012], [1713139200, 1461, 1482.13, 1446.33, 1464.83, 12902062], [1713225600, 1453.35, 1471.18, 1450.93, 1465.75, 9366184], [1713398400, 1463.5, 1486, 1459.35, 1464.33, 19005692], [1713484800, 1456.78, 1474, 1443.03, 1470.13, 15741778], [1713744000, 1472.45, 1482.83, 1467.8, 1479.85, 10350362], [1713830400, 1479, 1493.5, 1455.55, 1459.33, 14605554], [1713916800, 1463.5, 1468.55, 1449.5, 1450.18, 10462776], [1714003200, 1442.5, 1467.98, 1441.5, 1459.98, 15943926], [1714089600, 1463.95, 1465, 1450, 1452.55, 9413848], [1714348800, 1450, 1467.9, 1450, 1465.03, 7247974], [1714435200, 1468, 1483.08, 1462.88, 1467, 11474262], [1714608000, 1472, 1477.33, 1464.13, 1466.55, 14512646], [1714694400, 1471, 1474.95, 1416.15, 1434, 17226958], [1714953600, 1435.5, 1440, 1418, 1419.53, 7394208], [1715040000, 1415.98, 1420.75, 1392, 1401.48, 14517472], [1715126400, 1397.5, 1432.95, 1397.5, 1418.55, 9439002], [1715212800, 1413, 1423.75, 1390, 1394.13, 11009612], [1715299200, 1396.75, 1410, 1388.08, 1407.43, 10505096], [1715558400, 1399.9, 1406.98, 1384, 1402.7, 8456620], [1715644800, 1400.98, 1427.08, 1400.03, 1420.08, 7188300], [1715731200, 1420.5, 1429.98, 1413.03, 1416.28, 5046534], [1715817600, 1418.55, 1427.5, 1398.03, 1425.35, 14711774], [1715904000, 1423.05, 1437.2, 1413.25, 1435.7, 10916476], [1715990400, 1437.5, 1439.5, 1432.7, 1434.83, 426040], [1716249600, 1425.6, 1441.83, 1425.6, 1436.13, 11176128], [1716336000, 1436.28, 1468.78, 1436.28, 1460.65, 10281604], [1716422400, 1458.55, 1492.23, 1455, 1486.05, 14608260], [1716508800, 1483.63, 1488.5, 1476.1, 1480.25, 7094776], [1716768000, 1480.23, 1484.9, 1461.55, 1466.25, 6629010], [1716854400, 1468, 1478.5, 1452.75, 1456.2, 7820162], [1716940800, 1446.5, 1458, 1438.45, 1440.78, 7383556], [1717027200, 1435.5, 1440.4, 1420.1, 1424.85, 13206858], [1717113600, 1431.3, 1442.25, 1422.25, 1430.4, 31069832], [1717372800, 1483, 1514.5, 1459, 1510.33, 21527942], [1717459200, 1498.05, 1498.05, 1359.3, 1397.28, 36709098], [1717545600, 1422, 1431.15, 1384.1, 1420.75, 17464890], [1717632000, 1435, 1443.7, 1421.35, 1431.6, 17855722], [1717718400, 1428.5, 1472, 1426.5, 1469.95, 18558696], [1717977600, 1469.95, 1493.35, 1468.08, 1471.4, 9251760], [1718064000, 1469, 1473.68, 1454.68, 1456.68, 11774902], [1718150400, 1457.5, 1476, 1455.18, 1463.33, 10081742], [1718236800, 1472, 1472.25, 1460.1, 1465.25, 9181160], [1718323200, 1470, 1479.68, 1457.23, 1477.55, 8157998], [1718668800, 1487.35, 1487.4, 1471.35, 1481.03, 7196766], [1718755200, 1487.5, 1487.5, 1456, 1458.65, 8725874], [1718841600, 1459, 1482.85, 1450.1, 1473.7, 16113776], [1718928000, 1473.63, 1474.7, 1440.58, 1454.2, 31170360], [1719187200, 1445.53, 1449.5, 1437.5, 1441.48, 8878386], [1719273600, 1443, 1455.93, 1441, 1454.15, 7045386], [1719360000, 1446.05, 1518.98, 1445.13, 1514.03, 22014882], [1719446400, 1513.75, 1537.5, 1506, 1530.55, 28383030], [1719532800, 1531.03, 1581, 1531.03, 1565.4, 28957336], [1719792000, 1562.53, 1579.4, 1555.68, 1560.15, 7724306], [1719878400, 1569.5, 1573.5, 1557, 1565.18, 7749246], [1719964800, 1566.33, 1575, 1542.78, 1552.43, 9049620], [1720051200, 1557, 1567.5, 1550.8, 1554.03, 6837176], [1720137600, 1553.83, 1598.5, 1548, 1588.63, 12269710], [1720396800, 1589, 1608.8, 1582.53, 1600.9, 9500806], [1720483200, 1597.6, 1600.5, 1580.5, 1590.28, 6960002], [1720569600, 1595, 1597.5, 1563.15, 1584.23, 7134578], [1720656000, 1587.5, 1604.25, 1570.5, 1580.65, 11940946], [1720742400, 1584.5, 1605.15, 1574.5, 1596.73, 12924784], [1721001600, 1604.45, 1605.85, 1585.5, 1597.23, 5329688], [1721088000, 1593.5, 1600, 1569.13, 1576.25, 9386838], [1721260800, 1576, 1593.9, 1557.83, 1586.68, 12298374], [1721347200, 1586, 1589.98, 1552.8, 1555.15, 13140390], [1721606400, 1537.25, 1537.5, 1499.28, 1500.68, 19674376], [1721692800, 1501, 1505.75, 1463, 1487.9, 18052044], [1721779200, 1485, 1509.5, 1476.4, 1495.7, 11913362], [1721865600, 1481, 1500.48, 1477.08, 1492.4, 12519876], [1721952000, 1492.4, 1512.43, 1490.35, 1509.03, 9859940], [1722211200, 1511.95, 1527.5, 1511.78, 1520.1, 7538550], [1722297600, 1517.03, 1525, 1510, 1513.15, 8228208], [1722384000, 1504, 1510.45, 1501.15, 1505.43, 10057346], [1722470400, 1512, 1518, 1504.3, 1515.3, 10764222], [1722556800, 1505, 1509.33, 1493.28, 1499.33, 10268248], [1722816000, 1480, 1483.9, 1433.25, 1447.33, 17046704], [1722902400, 1455.15, 1477.5, 1451.33, 1456.05, 10236186], [1722988800, 1469, 1472.5, 1461.5, 1464.83, 8174568], [1723075200, 1457.53, 1465, 1445.93, 1449.13, 12387192], [1723161600, 1460, 1476.5, 1456, 1474.3, 6249776], [1723420800, 1470, 1473, 1457.75, 1460.63, 8184584], [1723507200, 1460.75, 1470.08, 1458, 1463.63, 6265064], [1723593600, 1463.55, 1472, 1453.7, 1461.85, 6267466], [1723766400, 1468.65, 1480.4, 1458.05, 1478.2, 9416902], [1724025600, 1482.5, 1498.3, 1480.5, 1488.4, 13797742], [1724112000, 1497.23, 1503.93, 1490.03, 1495.95, 8411808], [1724198400, 1493.25, 1507.88, 1490, 1498.68, 7769996], [1724284800, 1503, 1506.5, 1490.65, 1498.13, 10445782], [1724371200, 1503.75, 1511.33, 1498.43, 1499.98, 9249654], [1724630400, 1506.98, 1523, 1503, 1512.6, 8816114], [1724716800, 1510.5, 1513.48, 1499.45, 1500.45, 6251156], [1724803200, 1505, 1507.48, 1493, 1498.3, 9610286], [1724889600, 1503.1, 1537, 1494, 1520.93, 38335358], [1724976000, 1534, 1539.73, 1503.33, 1509.63, 41620730], [1725235200, 1510.88, 1526.8, 1506.63, 1516.25, 11240852], [1725321600, 1521.25, 1523, 1507.5, 1509.13, 10923800], [1725408000, 1500.7, 1517.5, 1499.5, 1514.55, 11983304], [1725494400, 1519.05, 1525.78, 1487.05, 1492.98, 16264168], [1725580800, 1492.5, 1497, 1461.63, 1464.83, 19394228], [1725840000, 1466.5, 1469.93, 1455.6, 1462.45, 9010298], [1725926400, 1460.5, 1472.05, 1457.58, 1461.53, 10768260], [1726012800, 1463.05, 1468.75, 1447.55, 1451.5, 9760202], [1726099200, 1457, 1486, 1445.88, 1479.8, 22349376], [1726185600, 1476.4, 1483.15, 1469.5, 1472.63, 8711328], [1726444800, 1477.55, 1480.9, 1464.75, 1471.35, 5481774], [1726531200, 1474, 1477.48, 1466.63, 1472.3, 5935328], [1726617600, 1470, 1482, 1460.55, 1463.45, 8574714], [1726704000, 1466.25, 1476.5, 1455.55, 1469.68, 16955902], [1726790400, 1474, 1495, 1471.38, 1485.93, 30897320], [1727049600, 1491, 1501.5, 1488.95, 1493.38, 8832314], [1727136000, 1488.5, 1500.5, 1487.88, 1489.38, 17137444], [1727222400, 1483.9, 1496.5, 1480.2, 1493.95, 7069002], [1727308800, 1490.65, 1504, 1488.05, 1497.95, 18818998], [1727395200, 1499, 1533.48, 1492, 1526.18, 20597478], [1727654400, 1519.4, 1524.98, 1474.4, 1476.58, 27008814], [1727740800, 1480.65, 1487.95, 1462.83, 1464.83, 16431642], [1727913600, 1436.58, 1449.4, 1402.08, 1406.98, 37757294], [1728000000, 1403.93, 1417.35, 1381.78, 1386.53, 37072876], [1728259200, 1393.5, 1396.5, 1361.38, 1370.73, 22181340], [1728345600, 1372.98, 1401, 1365.1, 1397.35, 17020808], [1728432000, 1397.53, 1400.98, 1372.5, 1374.6, 14310610], [1728518400, 1380.03, 1386, 1369.43, 1371.05, 22358646], [1728604800, 1370, 1383.28, 1368.83, 1372.1, 7980122], [1728864000, 1379.45, 1380.08, 1368.25, 1372.53, 12221432], [1728950400, 1358.53, 1371.7, 1340.7, 1344.03, 33762794], [1729036800, 1340, 1364, 1337.63, 1354.08, 20034438], [1729123200, 1365.7, 1368.45, 1352.05, 1356.43, 15543660], [1729209600, 1352.18, 1368.43, 1341.33, 1359.3, 12082452], [1729468800, 1367.13, 1374, 1357.73, 1369.2, 14067408], [1729555200, 1369.2, 1376, 1340.23, 1343.35, 15831960], [1729641600, 1337.5, 1357.48, 1335, 1338.53, 17214742], [1729728000, 1335.28, 1343.7, 1323.13, 1339.8, 22155934], [1729814400, 1343.5, 1344.35, 1322, 1327.85, 18597496], [1730073600, 1337, 1353, 1322.1, 1334.35, 10824350], [1730160000, 1328.1, 1343.2, 1320.3, 1340, 12008361], [1730246400, 1335, 1350, 1325.35, 1343.9, 11984423], [1730332800, 1340, 1343, 1326.15, 1332.05, 9331650], [1730419200, 1333.05, 1341.95, 1333, 1338.65, 2127335], [1730678400, 1337.85, 1340, 1285.1, 1302.15, 19796890], [1730764800, 1293, 1309.55, 1286.15, 1305.3, 16267479], [1730851200, 1310, 1328.3, 1300.2, 1325.35, 21625209], [1730937600, 1324, 1324, 1302.6, 1305.65, 9611974], [1731024000, 1297.65, 1301.65, 1275, 1283.75, 19814406], [1731283200, 1278.95, 1286, 1267, 1272.7, 9056552], [1731369600, 1275.55, 1289.3, 1267.5, 1274.25, 10671091], [1731456000, 1270.25, 1275.45, 1249.5, 1252.05, 14633633], [1731542400, 1253.6, 1272.6, 1251.1, 1267.6, 12612633], [1731888000, 1267.6, 1272.9, 1243.9, 1260.75, 13620611], [1731974400, 1260.75, 1281.5, 1235.15, 1241.65, 14183746], [1732147200, 1241.65, 1243.95, 1217.25, 1223, 19433843], [1732233600, 1229.4, 1268.85, 1222.45, 1265.4, 20471957], [1732492800, 1290, 1304.45, 1282.45, 1287, 28923341], [1732579200, 1294.95, 1297.85, 1284.2, 1295.7, 9247557], [1732665600, 1293.5, 1303.85, 1286, 1293.2, 9572746], [1732752000, 1289.95, 1296.6, 1269.05, 1270.8, 15027412], [1732838400, 1280, 1299.5, 1275.25, 1292.2, 13202307], [1733097600, 1288, 1311.35, 1277.05, 1309.15, 11024152], [1733184000, 1317, 1326.8, 1307, 1323.3, 16869482], [1733270400, 1326, 1328.4, 1304.05, 1308.95, 19608540], [1733356800, 1314.35, 1329.95, 1306.15, 1322.05, 16858723], [1733443200, 1323.9, 1323.9, 1310, 1311.55, 9037514], [1733702400, 1303, 1315, 1293.1, 1295.15, 14650002], [1733788800, 1289.25, 1294.9, 1280.2, 1284.85, 16043729], [1733875200, 1285, 1290, 1276.05, 1278.2, 11724373], [1733961600, 1270, 1278.2, 1260.6, 1262.9, 20906813], [1734048000, 1260, 1275.2, 1239.6, 1272.85, 28630222], [1734307200, 1275, 1281, 1266.55, 1268.3, 9486781], [1734393600, 1261.05, 1263.9, 1242.8, 1245.3, 17462791], [1734480000, 1240.65, 1259.95, 1240.65, 1253.25, 12670179], [1734566400, 1239, 1244.9, 1229, 1230.45, 14244653], [1734652800, 1224, 1239.5, 1201.5, 1205.3, 20312896], [1734912000, 1215, 1227.2, 1213.2, 1222.3, 10052824], [1734998400, 1222.3, 1233.55, 1221, 1222.75, 6734917], [1735171200, 1224.25, 1227.7, 1214.25, 1216.55, 10016178], [1735257600, 1218.3, 1227.9, 1217, 1221.05, 7000397], [1735516800, 1216.4, 1223.2, 1208.1, 1210.7, 8818766], [1735603200, 1208, 1219.1, 1206.15, 1215.45, 6405475]], 'code': 200, 'message': '', 's': 'ok'}\n"
     ]
    }
   ],
   "source": [
    "from fyers_apiv3 import fyersModel\n",
    "\n",
    "# Use your existing access_token\n",
    "fyers = fyersModel.FyersModel(token=access_token, is_async=False, client_id=client_id, log_path=\"\")\n",
    "\n",
    "# Example 1: Get Stock Quote (Real-time price data)\n",
    "symbol = \"NSE:RELIANCE-EQ\"     # Format: EXCHANGE:SYMBOL\n",
    "data = {\n",
    "    \"symbols\": symbol\n",
    "}\n",
    "quote = fyers.quotes(data)\n",
    "print(\"Real-Time Quote:\\n\", quote)\n",
    "\n",
    "# Example 2: Get Market Depth (Order Book Data)\n",
    "depth = fyers.depth(data)\n",
    "print(\"\\nMarket Depth:\\n\", depth)\n",
    "\n",
    "# Example 3: Get Historical Data (Candlestick / OHLC)\n",
    "historical_data = {\n",
    "    \"symbol\": symbol,\n",
    "    \"resolution\": \"D\",      # D=Daily, 5=5min, 15=15min, 60=1hr\n",
    "    \"date_format\": \"1\",     # 1=YYYY-MM-DD\n",
    "    \"range_from\": \"2024-01-01\",\n",
    "    \"range_to\": \"2024-12-31\",\n",
    "    \"cont_flag\": \"1\"        # Continuous data for expired contracts\n",
    "}\n",
    "history = fyers.history(data=historical_data)\n",
    "print(\"\\nHistorical Data:\\n\", history)\n"
   ]
  },
  {
   "cell_type": "code",
   "execution_count": 14,
   "id": "21d483e6",
   "metadata": {},
   "outputs": [
    {
     "name": "stdout",
     "output_type": "stream",
     "text": [
      "Symbol      : NSE:NIFTY2591625000CE\n",
      "Premium (LTP): 81.75\n",
      "Bid         : 81.2\n",
      "Ask         : 81.7\n",
      "Volume      : 35321325\n"
     ]
    }
   ],
   "source": [
    "import pandas as pd\n",
    "from fyers_apiv3 import fyersModel\n",
    "from config import CLIENT_ID, AUTH_CODE, REDIRECT_URI, RESPONSE_TYPE, STATE, SECRET_KEY, GRANT_TYPE\n",
    "\n",
    "# -----------------------------\n",
    "# Step 1: Authenticate and Get Access Token\n",
    "# -----------------------------\n",
    "session = fyersModel.SessionModel(\n",
    "    client_id=CLIENT_ID,\n",
    "    secret_key=SECRET_KEY,\n",
    "    redirect_uri=REDIRECT_URI,\n",
    "    response_type=RESPONSE_TYPE,\n",
    "    state=STATE,\n",
    "    grant_type=GRANT_TYPE\n",
    ")\n",
    "\n",
    "session.set_token(\"eyJhbGciOiJIUzI1NiIsInR5cCI6IkpXVCJ9.eyJhcHBfaWQiOiJDVjI2SExPOUpJIiwidXVpZCI6IjhmY2M1YzAyYzgyOTQ1YmFhNzBhMjQ2NWVlZmExMzZlIiwiaXBBZGRyIjoiIiwibm9uY2UiOiIiLCJzY29wZSI6IiIsImRpc3BsYXlfbmFtZSI6IkZBQzYyMzQ0Iiwib21zIjoiSzEiLCJoc21fa2V5IjoiMjJhNTcxZDNmNzY4ODRmOGI3MjYwYzA2ZGI3YzMwMmU3OWM2MjAzNzI5YzkwN2NmODdkYWQzN2MiLCJpc0RkcGlFbmFibGVkIjoiTiIsImlzTXRmRW5hYmxlZCI6Ik4iLCJhdWQiOiJbXCJkOjFcIixcImQ6MlwiLFwieDowXCIsXCJ4OjFcIixcIng6MlwiXSIsImV4cCI6MTc1NzQ2MDg0MSwiaWF0IjoxNzU3NDMwODQxLCJpc3MiOiJhcGkubG9naW4uZnllcnMuaW4iLCJuYmYiOjE3NTc0MzA4NDEsInN1YiI6ImF1dGhfY29kZSJ9.k11OAjRpRvIlgCVQwftnY_I4VBu0t-3MM41bM_zPkIA\")\n",
    "response = session.generate_token()\n",
    "\n",
    "access_token = response.get(\"access_token\")\n",
    "if not access_token:\n",
    "    raise SystemExit(\"Exiting: Could not retrieve access_token\")\n",
    "\n",
    "# -----------------------------\n",
    "# Step 2: Initialize Fyers Client\n",
    "# -----------------------------\n",
    "fyers = fyersModel.FyersModel(\n",
    "    token=access_token,\n",
    "    is_async=False,\n",
    "    client_id=CLIENT_ID\n",
    ")\n",
    "\n",
    "# -----------------------------\n",
    "# Step 3: Define the F&O Symbol\n",
    "# -----------------------------\n",
    "symbol = \"NSE:NIFTY2591625000CE\"   # Example Fyers symbol from NSE_FO.csv\n",
    "\n",
    "# -----------------------------\n",
    "# Step 4: Get the Latest Premium (LTP)\n",
    "# -----------------------------\n",
    "data = {\n",
    "    \"symbols\": symbol\n",
    "}\n",
    "\n",
    "quote = fyers.quotes(data)\n",
    "\n",
    "if quote.get(\"s\") == \"ok\":\n",
    "    ltp = quote[\"d\"][0][\"v\"][\"lp\"]  # latest price (option premium)\n",
    "    bid = quote[\"d\"][0][\"v\"][\"bid\"] # best bid price\n",
    "    ask = quote[\"d\"][0][\"v\"][\"ask\"] # best ask price\n",
    "    # oi = quote[\"d\"][0][\"v\"][\"oi\"]   # open interest\n",
    "    volume = quote[\"d\"][0][\"v\"][\"volume\"]  # volume traded\n",
    "    \n",
    "    print(f\"Symbol      : {symbol}\")\n",
    "    print(f\"Premium (LTP): {ltp}\")\n",
    "    print(f\"Bid         : {bid}\")\n",
    "    print(f\"Ask         : {ask}\")\n",
    "    # print(f\"Open Interest: {oi}\")\n",
    "    print(f\"Volume      : {volume}\")\n",
    "else:\n",
    "    print(\"Error fetching data:\", quote)\n"
   ]
  },
  {
   "cell_type": "code",
   "execution_count": 12,
   "id": "2ffe4dee",
   "metadata": {},
   "outputs": [
    {
     "data": {
      "text/plain": [
       "{'message': '',\n",
       " 'code': 200,\n",
       " 'd': [{'n': 'NSE:NIFTY2590924800PE',\n",
       "   'v': {'ask': 0.05,\n",
       "    'bid': 0,\n",
       "    'chp': -99.91,\n",
       "    'ch': -53.7,\n",
       "    'description': 'NSE:NIFTY2590924800PE',\n",
       "    'exchange': 'NSE',\n",
       "    'fyToken': '101125090940582',\n",
       "    'high_price': 37.6,\n",
       "    'low_price': 0.05,\n",
       "    'lp': 0.05,\n",
       "    'open_price': 29,\n",
       "    'original_name': 'NSE:NIFTY2590924800PE',\n",
       "    'prev_close_price': 53.75,\n",
       "    'short_name': 'NIFTY2590924800PE',\n",
       "    'spread': 0,\n",
       "    'symbol': 'NSE:NIFTY2590924800PE',\n",
       "    'tt': '1757376000',\n",
       "    'volume': 2026949025,\n",
       "    'atp': 15.04},\n",
       "   's': 'ok'}],\n",
       " 's': 'ok'}"
      ]
     },
     "execution_count": 12,
     "metadata": {},
     "output_type": "execute_result"
    }
   ],
   "source": [
    "quote"
   ]
  },
  {
   "cell_type": "code",
   "execution_count": 3,
   "id": "780a14bc",
   "metadata": {},
   "outputs": [
    {
     "name": "stdout",
     "output_type": "stream",
     "text": [
      "['20MICRONS', '21STCENMGM', '360ONE', '3IINFOLTD', '3MINDIA', '3PLAND', '5PAISA', '63MOONS', 'A2ZINFRA', 'AAATECH', 'AADHARHFC', 'AAKASH', 'AAREYDRUGS', 'AARON', 'AARTECH', 'AARTIDRUGS', 'AARTIIND', 'AARTIPHARM', 'AARTISURF', 'AARVEEDEN']\n"
     ]
    }
   ],
   "source": [
    "from nsepython import nse_eq_symbols\n",
    "\n",
    "symbols = nse_eq_symbols()\n",
    "print(symbols[:20])"
   ]
  },
  {
   "cell_type": "code",
   "execution_count": 6,
   "id": "e2abeb08",
   "metadata": {},
   "outputs": [
    {
     "name": "stdout",
     "output_type": "stream",
     "text": [
      "                                                                                                                          SYMBOL  \\\n",
      "101125090935098 NIFTY 25 Sep 09 29950 CE 14 75 0.05 NaN 0915-1530|1815-1915: 2025-09-08 1757412000 NSE:NIFTY2590929950CE      10   \n",
      "101125090935099 NIFTY 25 Sep 09 29950 PE 14 75 0.05 NaN 0915-1530|1815-1915: 2025-09-08 1757412000 NSE:NIFTY2590929950PE      10   \n",
      "101125090935100 NIFTY 25 Sep 09 30000 CE 14 75 0.05 NaN 0915-1530|1815-1915: 2025-09-08 1757412000 NSE:NIFTY2590930000CE      10   \n",
      "101125090935101 NIFTY 25 Sep 09 30000 PE 14 75 0.05 NaN 0915-1530|1815-1915: 2025-09-08 1757412000 NSE:NIFTY2590930000PE      10   \n",
      "101125090935104 NIFTY 25 Sep 09 30050 CE 14 75 0.05 NaN 0915-1530|1815-1915: 2025-09-08 1757412000 NSE:NIFTY2590930050CE      10   \n",
      "101125090935106 NIFTY 25 Sep 09 30050 PE 14 75 0.05 NaN 0915-1530|1815-1915: 2025-09-08 1757412000 NSE:NIFTY2590930050PE      10   \n",
      "101125090935660 NIFTY 25 Sep 09 30100 CE 14 75 0.05 NaN 0915-1530|1815-1915: 2025-09-08 1757412000 NSE:NIFTY2590930100CE      10   \n",
      "101125090935661 NIFTY 25 Sep 09 30100 PE 14 75 0.05 NaN 0915-1530|1815-1915: 2025-09-08 1757412000 NSE:NIFTY2590930100PE      10   \n",
      "101125090935820 NIFTY 25 Sep 09 30150 CE 14 75 0.05 NaN 0915-1530|1815-1915: 2025-09-08 1757412000 NSE:NIFTY2590930150CE      10   \n",
      "101125090935822 NIFTY 25 Sep 09 30150 PE 14 75 0.05 NaN 0915-1530|1815-1915: 2025-09-08 1757412000 NSE:NIFTY2590930150PE      10   \n",
      "\n",
      "                                                                                                                          NAME  \\\n",
      "101125090935098 NIFTY 25 Sep 09 29950 CE 14 75 0.05 NaN 0915-1530|1815-1915: 2025-09-08 1757412000 NSE:NIFTY2590929950CE    11   \n",
      "101125090935099 NIFTY 25 Sep 09 29950 PE 14 75 0.05 NaN 0915-1530|1815-1915: 2025-09-08 1757412000 NSE:NIFTY2590929950PE    11   \n",
      "101125090935100 NIFTY 25 Sep 09 30000 CE 14 75 0.05 NaN 0915-1530|1815-1915: 2025-09-08 1757412000 NSE:NIFTY2590930000CE    11   \n",
      "101125090935101 NIFTY 25 Sep 09 30000 PE 14 75 0.05 NaN 0915-1530|1815-1915: 2025-09-08 1757412000 NSE:NIFTY2590930000PE    11   \n",
      "101125090935104 NIFTY 25 Sep 09 30050 CE 14 75 0.05 NaN 0915-1530|1815-1915: 2025-09-08 1757412000 NSE:NIFTY2590930050CE    11   \n",
      "101125090935106 NIFTY 25 Sep 09 30050 PE 14 75 0.05 NaN 0915-1530|1815-1915: 2025-09-08 1757412000 NSE:NIFTY2590930050PE    11   \n",
      "101125090935660 NIFTY 25 Sep 09 30100 CE 14 75 0.05 NaN 0915-1530|1815-1915: 2025-09-08 1757412000 NSE:NIFTY2590930100CE    11   \n",
      "101125090935661 NIFTY 25 Sep 09 30100 PE 14 75 0.05 NaN 0915-1530|1815-1915: 2025-09-08 1757412000 NSE:NIFTY2590930100PE    11   \n",
      "101125090935820 NIFTY 25 Sep 09 30150 CE 14 75 0.05 NaN 0915-1530|1815-1915: 2025-09-08 1757412000 NSE:NIFTY2590930150CE    11   \n",
      "101125090935822 NIFTY 25 Sep 09 30150 PE 14 75 0.05 NaN 0915-1530|1815-1915: 2025-09-08 1757412000 NSE:NIFTY2590930150PE    11   \n",
      "\n",
      "                                                                                                                          INSTRUMENT  \\\n",
      "101125090935098 NIFTY 25 Sep 09 29950 CE 14 75 0.05 NaN 0915-1530|1815-1915: 2025-09-08 1757412000 NSE:NIFTY2590929950CE       35098   \n",
      "101125090935099 NIFTY 25 Sep 09 29950 PE 14 75 0.05 NaN 0915-1530|1815-1915: 2025-09-08 1757412000 NSE:NIFTY2590929950PE       35099   \n",
      "101125090935100 NIFTY 25 Sep 09 30000 CE 14 75 0.05 NaN 0915-1530|1815-1915: 2025-09-08 1757412000 NSE:NIFTY2590930000CE       35100   \n",
      "101125090935101 NIFTY 25 Sep 09 30000 PE 14 75 0.05 NaN 0915-1530|1815-1915: 2025-09-08 1757412000 NSE:NIFTY2590930000PE       35101   \n",
      "101125090935104 NIFTY 25 Sep 09 30050 CE 14 75 0.05 NaN 0915-1530|1815-1915: 2025-09-08 1757412000 NSE:NIFTY2590930050CE       35104   \n",
      "101125090935106 NIFTY 25 Sep 09 30050 PE 14 75 0.05 NaN 0915-1530|1815-1915: 2025-09-08 1757412000 NSE:NIFTY2590930050PE       35106   \n",
      "101125090935660 NIFTY 25 Sep 09 30100 CE 14 75 0.05 NaN 0915-1530|1815-1915: 2025-09-08 1757412000 NSE:NIFTY2590930100CE       35660   \n",
      "101125090935661 NIFTY 25 Sep 09 30100 PE 14 75 0.05 NaN 0915-1530|1815-1915: 2025-09-08 1757412000 NSE:NIFTY2590930100PE       35661   \n",
      "101125090935820 NIFTY 25 Sep 09 30150 CE 14 75 0.05 NaN 0915-1530|1815-1915: 2025-09-08 1757412000 NSE:NIFTY2590930150CE       35820   \n",
      "101125090935822 NIFTY 25 Sep 09 30150 PE 14 75 0.05 NaN 0915-1530|1815-1915: 2025-09-08 1757412000 NSE:NIFTY2590930150PE       35822   \n",
      "\n",
      "                                                                                                                         EXPIRY  \\\n",
      "101125090935098 NIFTY 25 Sep 09 29950 CE 14 75 0.05 NaN 0915-1530|1815-1915: 2025-09-08 1757412000 NSE:NIFTY2590929950CE  NIFTY   \n",
      "101125090935099 NIFTY 25 Sep 09 29950 PE 14 75 0.05 NaN 0915-1530|1815-1915: 2025-09-08 1757412000 NSE:NIFTY2590929950PE  NIFTY   \n",
      "101125090935100 NIFTY 25 Sep 09 30000 CE 14 75 0.05 NaN 0915-1530|1815-1915: 2025-09-08 1757412000 NSE:NIFTY2590930000CE  NIFTY   \n",
      "101125090935101 NIFTY 25 Sep 09 30000 PE 14 75 0.05 NaN 0915-1530|1815-1915: 2025-09-08 1757412000 NSE:NIFTY2590930000PE  NIFTY   \n",
      "101125090935104 NIFTY 25 Sep 09 30050 CE 14 75 0.05 NaN 0915-1530|1815-1915: 2025-09-08 1757412000 NSE:NIFTY2590930050CE  NIFTY   \n",
      "101125090935106 NIFTY 25 Sep 09 30050 PE 14 75 0.05 NaN 0915-1530|1815-1915: 2025-09-08 1757412000 NSE:NIFTY2590930050PE  NIFTY   \n",
      "101125090935660 NIFTY 25 Sep 09 30100 CE 14 75 0.05 NaN 0915-1530|1815-1915: 2025-09-08 1757412000 NSE:NIFTY2590930100CE  NIFTY   \n",
      "101125090935661 NIFTY 25 Sep 09 30100 PE 14 75 0.05 NaN 0915-1530|1815-1915: 2025-09-08 1757412000 NSE:NIFTY2590930100PE  NIFTY   \n",
      "101125090935820 NIFTY 25 Sep 09 30150 CE 14 75 0.05 NaN 0915-1530|1815-1915: 2025-09-08 1757412000 NSE:NIFTY2590930150CE  NIFTY   \n",
      "101125090935822 NIFTY 25 Sep 09 30150 PE 14 75 0.05 NaN 0915-1530|1815-1915: 2025-09-08 1757412000 NSE:NIFTY2590930150PE  NIFTY   \n",
      "\n",
      "                                                                                                                          STRIKE  \\\n",
      "101125090935098 NIFTY 25 Sep 09 29950 CE 14 75 0.05 NaN 0915-1530|1815-1915: 2025-09-08 1757412000 NSE:NIFTY2590929950CE   26000   \n",
      "101125090935099 NIFTY 25 Sep 09 29950 PE 14 75 0.05 NaN 0915-1530|1815-1915: 2025-09-08 1757412000 NSE:NIFTY2590929950PE   26000   \n",
      "101125090935100 NIFTY 25 Sep 09 30000 CE 14 75 0.05 NaN 0915-1530|1815-1915: 2025-09-08 1757412000 NSE:NIFTY2590930000CE   26000   \n",
      "101125090935101 NIFTY 25 Sep 09 30000 PE 14 75 0.05 NaN 0915-1530|1815-1915: 2025-09-08 1757412000 NSE:NIFTY2590930000PE   26000   \n",
      "101125090935104 NIFTY 25 Sep 09 30050 CE 14 75 0.05 NaN 0915-1530|1815-1915: 2025-09-08 1757412000 NSE:NIFTY2590930050CE   26000   \n",
      "101125090935106 NIFTY 25 Sep 09 30050 PE 14 75 0.05 NaN 0915-1530|1815-1915: 2025-09-08 1757412000 NSE:NIFTY2590930050PE   26000   \n",
      "101125090935660 NIFTY 25 Sep 09 30100 CE 14 75 0.05 NaN 0915-1530|1815-1915: 2025-09-08 1757412000 NSE:NIFTY2590930100CE   26000   \n",
      "101125090935661 NIFTY 25 Sep 09 30100 PE 14 75 0.05 NaN 0915-1530|1815-1915: 2025-09-08 1757412000 NSE:NIFTY2590930100PE   26000   \n",
      "101125090935820 NIFTY 25 Sep 09 30150 CE 14 75 0.05 NaN 0915-1530|1815-1915: 2025-09-08 1757412000 NSE:NIFTY2590930150CE   26000   \n",
      "101125090935822 NIFTY 25 Sep 09 30150 PE 14 75 0.05 NaN 0915-1530|1815-1915: 2025-09-08 1757412000 NSE:NIFTY2590930150PE   26000   \n",
      "\n",
      "                                                                                                                          OPTION_TYPE  \\\n",
      "101125090935098 NIFTY 25 Sep 09 29950 CE 14 75 0.05 NaN 0915-1530|1815-1915: 2025-09-08 1757412000 NSE:NIFTY2590929950CE      29950.0   \n",
      "101125090935099 NIFTY 25 Sep 09 29950 PE 14 75 0.05 NaN 0915-1530|1815-1915: 2025-09-08 1757412000 NSE:NIFTY2590929950PE      29950.0   \n",
      "101125090935100 NIFTY 25 Sep 09 30000 CE 14 75 0.05 NaN 0915-1530|1815-1915: 2025-09-08 1757412000 NSE:NIFTY2590930000CE      30000.0   \n",
      "101125090935101 NIFTY 25 Sep 09 30000 PE 14 75 0.05 NaN 0915-1530|1815-1915: 2025-09-08 1757412000 NSE:NIFTY2590930000PE      30000.0   \n",
      "101125090935104 NIFTY 25 Sep 09 30050 CE 14 75 0.05 NaN 0915-1530|1815-1915: 2025-09-08 1757412000 NSE:NIFTY2590930050CE      30050.0   \n",
      "101125090935106 NIFTY 25 Sep 09 30050 PE 14 75 0.05 NaN 0915-1530|1815-1915: 2025-09-08 1757412000 NSE:NIFTY2590930050PE      30050.0   \n",
      "101125090935660 NIFTY 25 Sep 09 30100 CE 14 75 0.05 NaN 0915-1530|1815-1915: 2025-09-08 1757412000 NSE:NIFTY2590930100CE      30100.0   \n",
      "101125090935661 NIFTY 25 Sep 09 30100 PE 14 75 0.05 NaN 0915-1530|1815-1915: 2025-09-08 1757412000 NSE:NIFTY2590930100PE      30100.0   \n",
      "101125090935820 NIFTY 25 Sep 09 30150 CE 14 75 0.05 NaN 0915-1530|1815-1915: 2025-09-08 1757412000 NSE:NIFTY2590930150CE      30150.0   \n",
      "101125090935822 NIFTY 25 Sep 09 30150 PE 14 75 0.05 NaN 0915-1530|1815-1915: 2025-09-08 1757412000 NSE:NIFTY2590930150PE      30150.0   \n",
      "\n",
      "                                                                                                                         TICK_SIZE  \\\n",
      "101125090935098 NIFTY 25 Sep 09 29950 CE 14 75 0.05 NaN 0915-1530|1815-1915: 2025-09-08 1757412000 NSE:NIFTY2590929950CE        CE   \n",
      "101125090935099 NIFTY 25 Sep 09 29950 PE 14 75 0.05 NaN 0915-1530|1815-1915: 2025-09-08 1757412000 NSE:NIFTY2590929950PE        PE   \n",
      "101125090935100 NIFTY 25 Sep 09 30000 CE 14 75 0.05 NaN 0915-1530|1815-1915: 2025-09-08 1757412000 NSE:NIFTY2590930000CE        CE   \n",
      "101125090935101 NIFTY 25 Sep 09 30000 PE 14 75 0.05 NaN 0915-1530|1815-1915: 2025-09-08 1757412000 NSE:NIFTY2590930000PE        PE   \n",
      "101125090935104 NIFTY 25 Sep 09 30050 CE 14 75 0.05 NaN 0915-1530|1815-1915: 2025-09-08 1757412000 NSE:NIFTY2590930050CE        CE   \n",
      "101125090935106 NIFTY 25 Sep 09 30050 PE 14 75 0.05 NaN 0915-1530|1815-1915: 2025-09-08 1757412000 NSE:NIFTY2590930050PE        PE   \n",
      "101125090935660 NIFTY 25 Sep 09 30100 CE 14 75 0.05 NaN 0915-1530|1815-1915: 2025-09-08 1757412000 NSE:NIFTY2590930100CE        CE   \n",
      "101125090935661 NIFTY 25 Sep 09 30100 PE 14 75 0.05 NaN 0915-1530|1815-1915: 2025-09-08 1757412000 NSE:NIFTY2590930100PE        PE   \n",
      "101125090935820 NIFTY 25 Sep 09 30150 CE 14 75 0.05 NaN 0915-1530|1815-1915: 2025-09-08 1757412000 NSE:NIFTY2590930150CE        CE   \n",
      "101125090935822 NIFTY 25 Sep 09 30150 PE 14 75 0.05 NaN 0915-1530|1815-1915: 2025-09-08 1757412000 NSE:NIFTY2590930150PE        PE   \n",
      "\n",
      "                                                                                                                                 LOT_SIZE  \\\n",
      "101125090935098 NIFTY 25 Sep 09 29950 CE 14 75 0.05 NaN 0915-1530|1815-1915: 2025-09-08 1757412000 NSE:NIFTY2590929950CE  101000000026000   \n",
      "101125090935099 NIFTY 25 Sep 09 29950 PE 14 75 0.05 NaN 0915-1530|1815-1915: 2025-09-08 1757412000 NSE:NIFTY2590929950PE  101000000026000   \n",
      "101125090935100 NIFTY 25 Sep 09 30000 CE 14 75 0.05 NaN 0915-1530|1815-1915: 2025-09-08 1757412000 NSE:NIFTY2590930000CE  101000000026000   \n",
      "101125090935101 NIFTY 25 Sep 09 30000 PE 14 75 0.05 NaN 0915-1530|1815-1915: 2025-09-08 1757412000 NSE:NIFTY2590930000PE  101000000026000   \n",
      "101125090935104 NIFTY 25 Sep 09 30050 CE 14 75 0.05 NaN 0915-1530|1815-1915: 2025-09-08 1757412000 NSE:NIFTY2590930050CE  101000000026000   \n",
      "101125090935106 NIFTY 25 Sep 09 30050 PE 14 75 0.05 NaN 0915-1530|1815-1915: 2025-09-08 1757412000 NSE:NIFTY2590930050PE  101000000026000   \n",
      "101125090935660 NIFTY 25 Sep 09 30100 CE 14 75 0.05 NaN 0915-1530|1815-1915: 2025-09-08 1757412000 NSE:NIFTY2590930100CE  101000000026000   \n",
      "101125090935661 NIFTY 25 Sep 09 30100 PE 14 75 0.05 NaN 0915-1530|1815-1915: 2025-09-08 1757412000 NSE:NIFTY2590930100PE  101000000026000   \n",
      "101125090935820 NIFTY 25 Sep 09 30150 CE 14 75 0.05 NaN 0915-1530|1815-1915: 2025-09-08 1757412000 NSE:NIFTY2590930150CE  101000000026000   \n",
      "101125090935822 NIFTY 25 Sep 09 30150 PE 14 75 0.05 NaN 0915-1530|1815-1915: 2025-09-08 1757412000 NSE:NIFTY2590930150PE  101000000026000   \n",
      "\n",
      "                                                                                                                          EXCHANGE  \\\n",
      "101125090935098 NIFTY 25 Sep 09 29950 CE 14 75 0.05 NaN 0915-1530|1815-1915: 2025-09-08 1757412000 NSE:NIFTY2590929950CE       NaN   \n",
      "101125090935099 NIFTY 25 Sep 09 29950 PE 14 75 0.05 NaN 0915-1530|1815-1915: 2025-09-08 1757412000 NSE:NIFTY2590929950PE       NaN   \n",
      "101125090935100 NIFTY 25 Sep 09 30000 CE 14 75 0.05 NaN 0915-1530|1815-1915: 2025-09-08 1757412000 NSE:NIFTY2590930000CE       NaN   \n",
      "101125090935101 NIFTY 25 Sep 09 30000 PE 14 75 0.05 NaN 0915-1530|1815-1915: 2025-09-08 1757412000 NSE:NIFTY2590930000PE       NaN   \n",
      "101125090935104 NIFTY 25 Sep 09 30050 CE 14 75 0.05 NaN 0915-1530|1815-1915: 2025-09-08 1757412000 NSE:NIFTY2590930050CE       NaN   \n",
      "101125090935106 NIFTY 25 Sep 09 30050 PE 14 75 0.05 NaN 0915-1530|1815-1915: 2025-09-08 1757412000 NSE:NIFTY2590930050PE       NaN   \n",
      "101125090935660 NIFTY 25 Sep 09 30100 CE 14 75 0.05 NaN 0915-1530|1815-1915: 2025-09-08 1757412000 NSE:NIFTY2590930100CE       NaN   \n",
      "101125090935661 NIFTY 25 Sep 09 30100 PE 14 75 0.05 NaN 0915-1530|1815-1915: 2025-09-08 1757412000 NSE:NIFTY2590930100PE       NaN   \n",
      "101125090935820 NIFTY 25 Sep 09 30150 CE 14 75 0.05 NaN 0915-1530|1815-1915: 2025-09-08 1757412000 NSE:NIFTY2590930150CE       NaN   \n",
      "101125090935822 NIFTY 25 Sep 09 30150 PE 14 75 0.05 NaN 0915-1530|1815-1915: 2025-09-08 1757412000 NSE:NIFTY2590930150PE       NaN   \n",
      "\n",
      "                                                                                                                          SEGMENT  \\\n",
      "101125090935098 NIFTY 25 Sep 09 29950 CE 14 75 0.05 NaN 0915-1530|1815-1915: 2025-09-08 1757412000 NSE:NIFTY2590929950CE        0   \n",
      "101125090935099 NIFTY 25 Sep 09 29950 PE 14 75 0.05 NaN 0915-1530|1815-1915: 2025-09-08 1757412000 NSE:NIFTY2590929950PE        0   \n",
      "101125090935100 NIFTY 25 Sep 09 30000 CE 14 75 0.05 NaN 0915-1530|1815-1915: 2025-09-08 1757412000 NSE:NIFTY2590930000CE        0   \n",
      "101125090935101 NIFTY 25 Sep 09 30000 PE 14 75 0.05 NaN 0915-1530|1815-1915: 2025-09-08 1757412000 NSE:NIFTY2590930000PE        0   \n",
      "101125090935104 NIFTY 25 Sep 09 30050 CE 14 75 0.05 NaN 0915-1530|1815-1915: 2025-09-08 1757412000 NSE:NIFTY2590930050CE        0   \n",
      "101125090935106 NIFTY 25 Sep 09 30050 PE 14 75 0.05 NaN 0915-1530|1815-1915: 2025-09-08 1757412000 NSE:NIFTY2590930050PE        0   \n",
      "101125090935660 NIFTY 25 Sep 09 30100 CE 14 75 0.05 NaN 0915-1530|1815-1915: 2025-09-08 1757412000 NSE:NIFTY2590930100CE        0   \n",
      "101125090935661 NIFTY 25 Sep 09 30100 PE 14 75 0.05 NaN 0915-1530|1815-1915: 2025-09-08 1757412000 NSE:NIFTY2590930100PE        0   \n",
      "101125090935820 NIFTY 25 Sep 09 30150 CE 14 75 0.05 NaN 0915-1530|1815-1915: 2025-09-08 1757412000 NSE:NIFTY2590930150CE        0   \n",
      "101125090935822 NIFTY 25 Sep 09 30150 PE 14 75 0.05 NaN 0915-1530|1815-1915: 2025-09-08 1757412000 NSE:NIFTY2590930150PE        0   \n",
      "\n",
      "                                                                                                                          ISIN  \n",
      "101125090935098 NIFTY 25 Sep 09 29950 CE 14 75 0.05 NaN 0915-1530|1815-1915: 2025-09-08 1757412000 NSE:NIFTY2590929950CE   0.0  \n",
      "101125090935099 NIFTY 25 Sep 09 29950 PE 14 75 0.05 NaN 0915-1530|1815-1915: 2025-09-08 1757412000 NSE:NIFTY2590929950PE   0.0  \n",
      "101125090935100 NIFTY 25 Sep 09 30000 CE 14 75 0.05 NaN 0915-1530|1815-1915: 2025-09-08 1757412000 NSE:NIFTY2590930000CE   0.0  \n",
      "101125090935101 NIFTY 25 Sep 09 30000 PE 14 75 0.05 NaN 0915-1530|1815-1915: 2025-09-08 1757412000 NSE:NIFTY2590930000PE   0.0  \n",
      "101125090935104 NIFTY 25 Sep 09 30050 CE 14 75 0.05 NaN 0915-1530|1815-1915: 2025-09-08 1757412000 NSE:NIFTY2590930050CE   0.0  \n",
      "101125090935106 NIFTY 25 Sep 09 30050 PE 14 75 0.05 NaN 0915-1530|1815-1915: 2025-09-08 1757412000 NSE:NIFTY2590930050PE   0.0  \n",
      "101125090935660 NIFTY 25 Sep 09 30100 CE 14 75 0.05 NaN 0915-1530|1815-1915: 2025-09-08 1757412000 NSE:NIFTY2590930100CE   0.0  \n",
      "101125090935661 NIFTY 25 Sep 09 30100 PE 14 75 0.05 NaN 0915-1530|1815-1915: 2025-09-08 1757412000 NSE:NIFTY2590930100PE   0.0  \n",
      "101125090935820 NIFTY 25 Sep 09 30150 CE 14 75 0.05 NaN 0915-1530|1815-1915: 2025-09-08 1757412000 NSE:NIFTY2590930150CE   0.0  \n",
      "101125090935822 NIFTY 25 Sep 09 30150 PE 14 75 0.05 NaN 0915-1530|1815-1915: 2025-09-08 1757412000 NSE:NIFTY2590930150PE   0.0  \n"
     ]
    }
   ],
   "source": [
    "import pandas as pd\n",
    "\n",
    "# Define column names manually\n",
    "columns = [\n",
    "    \"SYMBOL\",         # Full Fyers tradable symbol (e.g. NSE:NIFTY2590930000CE)\n",
    "    \"NAME\",           # Underlying name/index\n",
    "    \"INSTRUMENT\",     # FUTIDX / OPTIDX / FUTSTK / OPTSTK\n",
    "    \"EXPIRY\",         # Expiry date in YYYY-MM-DD\n",
    "    \"STRIKE\",         # Strike price (0 for Futures)\n",
    "    \"OPTION_TYPE\",    # CE / PE / XX\n",
    "    \"TICK_SIZE\",      # Min tick size\n",
    "    \"LOT_SIZE\",       # Lot size\n",
    "    \"EXCHANGE\",       # Exchange (NSE)\n",
    "    \"SEGMENT\",        # Segment (NSE_FO)\n",
    "    \"ISIN\"            # ISIN Code\n",
    "]\n",
    "\n",
    "# Read CSV with custom headers\n",
    "fo_df = pd.read_csv(\n",
    "    \"https://public.fyers.in/sym_details/NSE_FO.csv\",\n",
    "    header=None,\n",
    "    names=columns\n",
    ")\n",
    "\n",
    "print(fo_df.head(10))\n"
   ]
  },
  {
   "cell_type": "code",
   "execution_count": 4,
   "id": "13e50be2",
   "metadata": {},
   "outputs": [
    {
     "name": "stdout",
     "output_type": "stream",
     "text": [
      "[1/3] NSE blocked us. Retrying...\n",
      "[2/3] NSE blocked us. Retrying...\n",
      "[3/3] NSE blocked us. Retrying...\n",
      "Error: Failed to fetch option chain data after retries.\n"
     ]
    }
   ],
   "source": [
    "import requests\n",
    "import time\n",
    "import json\n",
    "from requests.exceptions import RequestException\n",
    "\n",
    "# ==============================\n",
    "# NSE OPTION CHAIN IV FETCHER\n",
    "# ==============================\n",
    "class NSEOptionChain:\n",
    "    def __init__(self):\n",
    "        self.base_url = \"https://www.nseindia.com\"\n",
    "        self.session = requests.Session()\n",
    "        self.session.headers.update({\n",
    "            \"User-Agent\": \"Mozilla/5.0 (Windows NT 10.0; Win64; x64) \"\n",
    "                          \"AppleWebKit/537.36 (KHTML, like Gecko) \"\n",
    "                          \"Chrome/114.0.0.0 Safari/537.36\",\n",
    "            \"Accept-Encoding\": \"gzip, deflate, br\",\n",
    "            \"Accept-Language\": \"en-US,en;q=0.9\",\n",
    "            \"Connection\": \"keep-alive\",\n",
    "        })\n",
    "\n",
    "    def _refresh_cookies(self):\n",
    "        \"\"\"Hit NSE homepage to refresh cookies\"\"\"\n",
    "        try:\n",
    "            self.session.get(self.base_url, timeout=5)\n",
    "        except RequestException:\n",
    "            raise Exception(\"Failed to fetch NSE cookies. Check your connection.\")\n",
    "\n",
    "    def fetch_option_chain(self, symbol=\"NIFTY\", retries=3):\n",
    "        \"\"\"\n",
    "        Fetch full option chain JSON from NSE.\n",
    "        Retries automatically if blocked.\n",
    "        \"\"\"\n",
    "        url = f\"{self.base_url}/api/option-chain-indices?symbol={symbol}\"\n",
    "\n",
    "        for attempt in range(1, retries + 1):\n",
    "            try:\n",
    "                # Refresh cookies before fetching\n",
    "                self._refresh_cookies()\n",
    "                response = self.session.get(url, timeout=10)\n",
    "\n",
    "                # If blocked\n",
    "                if response.status_code != 200:\n",
    "                    print(f\"[{attempt}/{retries}] NSE blocked us. Retrying...\")\n",
    "                    time.sleep(2)\n",
    "                    continue\n",
    "\n",
    "                # Try to parse JSON\n",
    "                try:\n",
    "                    return response.json()\n",
    "                except json.JSONDecodeError:\n",
    "                    print(f\"[{attempt}/{retries}] Got non-JSON response. Retrying...\")\n",
    "                    time.sleep(2)\n",
    "                    continue\n",
    "\n",
    "            except RequestException as e:\n",
    "                print(f\"[{attempt}/{retries}] Request failed: {e}\")\n",
    "                time.sleep(2)\n",
    "\n",
    "        raise Exception(\"Failed to fetch option chain data after retries.\")\n",
    "\n",
    "    def extract_iv(self, symbol=\"NIFTY\"):\n",
    "        \"\"\"\n",
    "        Extract CE & PE IV values for all strikes\n",
    "        Returns: (ce_iv_list, pe_iv_list)\n",
    "        \"\"\"\n",
    "        data = self.fetch_option_chain(symbol)\n",
    "\n",
    "        ce_iv = []\n",
    "        pe_iv = []\n",
    "\n",
    "        for item in data[\"records\"][\"data\"]:\n",
    "            strike = item[\"strikePrice\"]\n",
    "\n",
    "            # Call IV\n",
    "            if \"CE\" in item and \"impliedVolatility\" in item[\"CE\"]:\n",
    "                ce_iv.append({\n",
    "                    \"strike\": strike,\n",
    "                    \"iv\": item[\"CE\"][\"impliedVolatility\"]\n",
    "                })\n",
    "\n",
    "            # Put IV\n",
    "            if \"PE\" in item and \"impliedVolatility\" in item[\"PE\"]:\n",
    "                pe_iv.append({\n",
    "                    \"strike\": strike,\n",
    "                    \"iv\": item[\"PE\"][\"impliedVolatility\"]\n",
    "                })\n",
    "\n",
    "        return ce_iv, pe_iv\n",
    "\n",
    "\n",
    "# ==============================\n",
    "# USAGE EXAMPLE\n",
    "# ==============================\n",
    "if __name__ == \"__main__\":\n",
    "    nse = NSEOptionChain()\n",
    "\n",
    "    try:\n",
    "        ce_iv, pe_iv = nse.extract_iv(\"NIFTY\")\n",
    "\n",
    "        print(\"\\n=== Sample CE IV Data ===\")\n",
    "        for row in ce_iv[:5]:\n",
    "            print(row)\n",
    "\n",
    "        print(\"\\n=== Sample PE IV Data ===\")\n",
    "        for row in pe_iv[:5]:\n",
    "            print(row)\n",
    "\n",
    "        # Save to JSON if needed\n",
    "        with open(\"nifty_iv_data.json\", \"w\") as f:\n",
    "            json.dump({\"CE\": ce_iv, \"PE\": pe_iv}, f, indent=4)\n",
    "        print(\"\\nData saved to nifty_iv_data.json ✅\")\n",
    "\n",
    "    except Exception as e:\n",
    "        print(f\"Error: {e}\")\n"
   ]
  },
  {
   "cell_type": "code",
   "execution_count": 5,
   "id": "7db032fb",
   "metadata": {},
   "outputs": [
    {
     "ename": "AttributeError",
     "evalue": "'FyersModel' object has no attribute 'option_chain'",
     "output_type": "error",
     "traceback": [
      "\u001b[1;31m---------------------------------------------------------------------------\u001b[0m",
      "\u001b[1;31mAttributeError\u001b[0m                            Traceback (most recent call last)",
      "Cell \u001b[1;32mIn[5], line 14\u001b[0m\n\u001b[0;32m      6\u001b[0m fyers \u001b[38;5;241m=\u001b[39m fyersModel\u001b[38;5;241m.\u001b[39mFyersModel(client_id\u001b[38;5;241m=\u001b[39mclient_id, token\u001b[38;5;241m=\u001b[39maccess_token, log_path\u001b[38;5;241m=\u001b[39m\u001b[38;5;124m\"\u001b[39m\u001b[38;5;124m\"\u001b[39m)\n\u001b[0;32m      8\u001b[0m data \u001b[38;5;241m=\u001b[39m {\n\u001b[0;32m      9\u001b[0m     \u001b[38;5;124m\"\u001b[39m\u001b[38;5;124msymbol\u001b[39m\u001b[38;5;124m\"\u001b[39m: \u001b[38;5;124m\"\u001b[39m\u001b[38;5;124mNSE:NIFTY24SEP20500CE\u001b[39m\u001b[38;5;124m\"\u001b[39m,  \u001b[38;5;66;03m# Example\u001b[39;00m\n\u001b[0;32m     10\u001b[0m     \u001b[38;5;124m\"\u001b[39m\u001b[38;5;124mstrikeprice\u001b[39m\u001b[38;5;124m\"\u001b[39m: \u001b[38;5;124m\"\u001b[39m\u001b[38;5;124m20500\u001b[39m\u001b[38;5;124m\"\u001b[39m,\n\u001b[0;32m     11\u001b[0m     \u001b[38;5;124m\"\u001b[39m\u001b[38;5;124mexpiry\u001b[39m\u001b[38;5;124m\"\u001b[39m: \u001b[38;5;124m\"\u001b[39m\u001b[38;5;124m2024-09-24\u001b[39m\u001b[38;5;124m\"\u001b[39m\n\u001b[0;32m     12\u001b[0m }\n\u001b[1;32m---> 14\u001b[0m response \u001b[38;5;241m=\u001b[39m \u001b[43mfyers\u001b[49m\u001b[38;5;241;43m.\u001b[39;49m\u001b[43moption_chain\u001b[49m(data)\n\u001b[0;32m     15\u001b[0m \u001b[38;5;28mprint\u001b[39m(response)\n",
      "\u001b[1;31mAttributeError\u001b[0m: 'FyersModel' object has no attribute 'option_chain'"
     ]
    }
   ],
   "source": [
    "from fyers_apiv3 import fyersModel\n",
    "\n",
    "client_id = \"CV26HLO9JI-100\"\n",
    "access_token = \"eyJhbGciOiJIUzI1NiIsInR5cCI6IkpXVCJ9.eyJhdWQiOlsiZDoxIiwiZDoyIiwieDowIiwieDoxIiwieDoyIl0sImF0X2hhc2giOiJnQUFBQUFCb3djaGdiZjMtMDdIQ2xrMEktX24tZEI5a3NicjI4RXhjUWZiSldXelVIZ3NQeHFrX2p1RE1YRWFxUXFCbExocVRxeHZfSTVUb2dBaTJvcG16R3JONDdIN0NUYUpPYkc1UFNNR1lhRUpOMXBkWGpkND0iLCJkaXNwbGF5X25hbWUiOiIiLCJvbXMiOiJLMSIsImhzbV9rZXkiOiIyMmE1NzFkM2Y3Njg4NGY4YjcyNjBjMDZkYjdjMzAyZTc5YzYyMDM3MjljOTA3Y2Y4N2RhZDM3YyIsImlzRGRwaUVuYWJsZWQiOiJOIiwiaXNNdGZFbmFibGVkIjoiTiIsImZ5X2lkIjoiRkFDNjIzNDQiLCJhcHBUeXBlIjoxMDAsImV4cCI6MTc1NzYzNzAwMCwiaWF0IjoxNzU3NTMwMjA4LCJpc3MiOiJhcGkuZnllcnMuaW4iLCJuYmYiOjE3NTc1MzAyMDgsInN1YiI6ImFjY2Vzc190b2tlbiJ9.9aHgh9y2gx-t36THnJ_4JIinxynZ_b7SuSTdYl5whb0\"\n",
    "\n",
    "fyers = fyersModel.FyersModel(client_id=client_id, token=access_token, log_path=\"\")\n",
    "\n",
    "data = {\n",
    "    \"symbol\": \"NSE:NIFTY24SEP20500CE\",  # Example\n",
    "    \"strikeprice\": \"20500\",\n",
    "    \"expiry\": \"2024-09-24\"\n",
    "}\n",
    "\n",
    "response = fyers.option_chain(data)\n",
    "print(response)\n"
   ]
  },
  {
   "cell_type": "code",
   "execution_count": null,
   "id": "3707c076",
   "metadata": {},
   "outputs": [],
   "source": []
  }
 ],
 "metadata": {
  "kernelspec": {
   "display_name": "env (3.10.0)",
   "language": "python",
   "name": "python3"
  },
  "language_info": {
   "codemirror_mode": {
    "name": "ipython",
    "version": 3
   },
   "file_extension": ".py",
   "mimetype": "text/x-python",
   "name": "python",
   "nbconvert_exporter": "python",
   "pygments_lexer": "ipython3",
   "version": "3.10.0"
  }
 },
 "nbformat": 4,
 "nbformat_minor": 5
}
