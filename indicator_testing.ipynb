{
 "cells": [
  {
   "cell_type": "code",
   "execution_count": 10,
   "id": "d3960e3d",
   "metadata": {},
   "outputs": [
    {
     "name": "stdout",
     "output_type": "stream",
     "text": [
      "eyJhbGciOiJIUzI1NiIsInR5cCI6IkpXVCJ9.eyJhdWQiOlsiZDoxIiwiZDoyIiwieDowIiwieDoxIiwieDoyIl0sImF0X2hhc2giOiJnQUFBQUFCb3dHSmptTFd6YVEyai1ncC01ZlZwbklSTXNYdVV6REc3ZXpKRG41NFZHQnhybjh3SlZXdWJwNE1fUFBKQmlBUkNHZjNadi1jOUloakRlUWptWVZmNUZ6V1ZHRVRKMWN4OWp1X2xkeHl6NVdwWXBvMD0iLCJkaXNwbGF5X25hbWUiOiIiLCJvbXMiOiJLMSIsImhzbV9rZXkiOiIyMmE1NzFkM2Y3Njg4NGY4YjcyNjBjMDZkYjdjMzAyZTc5YzYyMDM3MjljOTA3Y2Y4N2RhZDM3YyIsImlzRGRwaUVuYWJsZWQiOiJOIiwiaXNNdGZFbmFibGVkIjoiTiIsImZ5X2lkIjoiRkFDNjIzNDQiLCJhcHBUeXBlIjoxMDAsImV4cCI6MTc1NzQ2NDIwMCwiaWF0IjoxNzU3NDM4NTYzLCJpc3MiOiJhcGkuZnllcnMuaW4iLCJuYmYiOjE3NTc0Mzg1NjMsInN1YiI6ImFjY2Vzc190b2tlbiJ9.L7UZ9TQbpQC94hj1N5xgU-nHKm7i5O8oLqKJ6215ps8\n",
      "History data found.\n"
     ]
    }
   ],
   "source": [
    "import numpy as np\n",
    "import pandas as pd\n",
    "from fyers_apiv3 import fyersModel\n",
    "from config import CLIENT_ID, AUTH_CODE, REDIRECT_URI, RESPONSE_TYPE, STATE, SECRET_KEY, GRANT_TYPE, get_logger\n",
    "\n",
    "# --- Exchange auth_code for access_token ---\n",
    "session = fyersModel.SessionModel(\n",
    "    client_id=CLIENT_ID,\n",
    "    secret_key=SECRET_KEY,\n",
    "    redirect_uri=REDIRECT_URI,\n",
    "    response_type=RESPONSE_TYPE,\n",
    "    state=STATE,\n",
    "    grant_type=GRANT_TYPE\n",
    ")\n",
    "\n",
    "session.set_token(AUTH_CODE)\n",
    "response = session.generate_token()\n",
    "\n",
    "access_token = response.get(\"access_token\")\n",
    "print(access_token)\n",
    "if not access_token:\n",
    "    raise SystemExit(\"Exiting: Could not retrieve access_token\")\n",
    "\n",
    "# --- Initialize Fyers client ---\n",
    "fyers = fyersModel.FyersModel(\n",
    "    token=access_token,\n",
    "    is_async=False,\n",
    "    client_id=CLIENT_ID\n",
    ")\n",
    "\n",
    "# --- Example: Historical data for backtesting ---\n",
    "data = {\n",
    "    \"symbol\": \"NSE:GOLDSTAR-SM\",\n",
    "    \"resolution\": \"1D\",       \n",
    "    \"date_format\": \"1\",       # YYYY-MM-DD\n",
    "    \"range_from\": \"2024-01-01\",\n",
    "    \"range_to\": \"2024-03-31\",\n",
    "    \"cont_flag\": \"1\"\n",
    "}\n",
    "\n",
    "history = fyers.history(data=data)\n",
    "\n",
    "# --- Convert to DataFrame ---\n",
    "import pandas as pd\n",
    "from zoneinfo import ZoneInfo  \n",
    "\n",
    "if history.get(\"s\") == \"ok\":\n",
    "    print(\"History data found.\")\n",
    "    candles = history[\"candles\"]\n",
    "    \n",
    "    # Create DataFrame\n",
    "    df = pd.DataFrame(candles, columns=[\"date\", \"open\", \"high\", \"low\", \"close\", \"volume\"])\n",
    "    df[\"date\"] = pd.to_datetime(df[\"date\"], unit=\"s\", utc=True)\n",
    "    df[\"date\"] = df[\"date\"].dt.tz_convert(ZoneInfo(\"Asia/Kolkata\"))\n",
    "    df.set_index(\"date\", inplace=True)\n",
    "    \n",
    "    # Reorder columns to OCLHV format\n",
    "    df = df[[\"open\", \"close\", \"low\", \"high\", \"volume\"]]\n",
    "else:\n",
    "    print(\"Error fetching history:\", history)\n"
   ]
  },
  {
   "cell_type": "code",
   "execution_count": 11,
   "id": "fc480d6e",
   "metadata": {},
   "outputs": [
    {
     "data": {
      "text/plain": [
       "(                            open  close    low   high  volume\n",
       " date                                                         \n",
       " 2024-01-01 05:30:00+05:30  16.80  17.10  16.00  17.20  225000\n",
       " 2024-01-02 05:30:00+05:30  17.10  16.90  16.40  17.10  135000\n",
       " 2024-01-03 05:30:00+05:30  16.90  16.95  16.15  17.25  157500\n",
       " 2024-01-04 05:30:00+05:30  16.15  16.35  16.15  16.75  247500\n",
       " 2024-01-05 05:30:00+05:30  16.35  16.90  15.90  17.00  180000,\n",
       " (60, 5))"
      ]
     },
     "execution_count": 11,
     "metadata": {},
     "output_type": "execute_result"
    }
   ],
   "source": [
    "df.head(), df.shape"
   ]
  },
  {
   "cell_type": "code",
   "execution_count": 14,
   "id": "35c309f2",
   "metadata": {},
   "outputs": [],
   "source": [
    "import plotly.graph_objects as go\n",
    "import plotly.io as pio\n",
    "from indicators import SMA  # your SMA function\n",
    "\n",
    "# Open plots in browser\n",
    "pio.renderers.default = \"browser\"\n",
    "\n",
    "# Create figure\n",
    "fig = go.Figure()\n",
    "\n",
    "# Plot close price\n",
    "fig.add_trace(go.Scatter(\n",
    "    x=df.index,\n",
    "    y=df['close'],\n",
    "    mode='lines',\n",
    "    name='Close Price',\n",
    "    line=dict(color='royalblue', width=2)\n",
    "))\n",
    "\n",
    "# Plot SMA 4\n",
    "fig.add_trace(go.Scatter(\n",
    "    x=df.index,\n",
    "    y=SMA(df, 4),\n",
    "    mode='lines',\n",
    "    name='SMA 4',\n",
    "    line=dict(color='orange', width=2)\n",
    "))\n",
    "\n",
    "# Plot SMA 15\n",
    "fig.add_trace(go.Scatter(\n",
    "    x=df.index,\n",
    "    y=SMA(df, 15),\n",
    "    mode='lines',\n",
    "    name='SMA 15',\n",
    "    line=dict(color='green', width=2)\n",
    "))\n",
    "\n",
    "# Update layout\n",
    "fig.update_layout(\n",
    "    title='Close Price with SMA 4 & SMA 15',\n",
    "    xaxis_title='Date',\n",
    "    yaxis_title='Price',\n",
    "    template='plotly_dark',\n",
    "    hovermode='x unified'\n",
    ")\n",
    "\n",
    "# Show interactive plot in browser\n",
    "fig.show()\n"
   ]
  },
  {
   "cell_type": "code",
   "execution_count": null,
   "id": "832dc2f6",
   "metadata": {},
   "outputs": [],
   "source": []
  }
 ],
 "metadata": {
  "kernelspec": {
   "display_name": "env (3.10.0)",
   "language": "python",
   "name": "python3"
  },
  "language_info": {
   "codemirror_mode": {
    "name": "ipython",
    "version": 3
   },
   "file_extension": ".py",
   "mimetype": "text/x-python",
   "name": "python",
   "nbconvert_exporter": "python",
   "pygments_lexer": "ipython3",
   "version": "3.10.0"
  }
 },
 "nbformat": 4,
 "nbformat_minor": 5
}
